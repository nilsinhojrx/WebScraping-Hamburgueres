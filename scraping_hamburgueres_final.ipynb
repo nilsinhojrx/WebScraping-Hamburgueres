{
 "cells": [
  {
   "cell_type": "markdown",
   "metadata": {},
   "source": [
    "##### Importando as bibliotecas necessárias"
   ]
  },
  {
   "cell_type": "code",
   "execution_count": 5,
   "metadata": {},
   "outputs": [],
   "source": [
    "from selenium import webdriver\n",
    "from selenium.webdriver.common.by import By\n",
    "from selenium.webdriver.chrome.options import Options\n",
    "from parsel import Selector\n",
    "import pandas as pd\n",
    "from time import sleep"
   ]
  },
  {
   "cell_type": "markdown",
   "metadata": {},
   "source": [
    "##### Abrir página e mudar para o iframe"
   ]
  },
  {
   "cell_type": "code",
   "execution_count": 6,
   "metadata": {},
   "outputs": [],
   "source": [
    "# Função que inicia o driver:\n",
    "def iniciar_driver():\n",
    "    chrome_options = Options()\n",
    "    # idioma português Brasil e abrir maximiado a tela\n",
    "    arguments = ['--lang=pt-BR', '--start-maximized']\n",
    "    for argument in arguments:\n",
    "        chrome_options.add_argument(argument)\n",
    "    driver = webdriver.Chrome(options=chrome_options)\n",
    "    return driver"
   ]
  },
  {
   "cell_type": "code",
   "execution_count": 7,
   "metadata": {},
   "outputs": [],
   "source": [
    "# inicar driver\n",
    "site = \"https://johnssimplesmentegostoso.com.br/\"\n",
    "driver = iniciar_driver()"
   ]
  },
  {
   "cell_type": "code",
   "execution_count": 8,
   "metadata": {},
   "outputs": [],
   "source": [
    "# entrar no site\n",
    "driver.get(site)"
   ]
  },
  {
   "cell_type": "code",
   "execution_count": 9,
   "metadata": {},
   "outputs": [],
   "source": [
    "# Mudar para o iframe\n",
    "sleep(3)\n",
    "driver.switch_to.frame(\"main\")"
   ]
  },
  {
   "cell_type": "markdown",
   "metadata": {},
   "source": [
    "##### Fazer o Scraping"
   ]
  },
  {
   "cell_type": "code",
   "execution_count": 10,
   "metadata": {},
   "outputs": [],
   "source": [
    "# Dicionário para armazenar os items\n",
    "items = {\n",
    "    \"menu_items\" : []\n",
    "}"
   ]
  },
  {
   "cell_type": "code",
   "execution_count": 11,
   "metadata": {},
   "outputs": [],
   "source": [
    "# Análise do código fonte da página\n",
    "resposta = Selector(driver.page_source)"
   ]
  },
  {
   "cell_type": "markdown",
   "metadata": {},
   "source": [
    "**Destaques**"
   ]
  },
  {
   "cell_type": "code",
   "execution_count": 13,
   "metadata": {},
   "outputs": [],
   "source": [
    "destaques = resposta.xpath(\"//div[@class='highlight-items-carousel']\")\n",
    "titulo = destaques.xpath(\"h2/text()\").get()\n",
    "nomes = destaques.xpath(\"//h4[@class='name']/text()\").extract()\n",
    "precos = destaques.css(\"div.prices .current::text\").extract()\n",
    "precos = list(map(lambda p: p.replace(\"R$\\xa0\", \"\").replace(\",\", \".\"), precos))"
   ]
  },
  {
   "cell_type": "code",
   "execution_count": 14,
   "metadata": {},
   "outputs": [],
   "source": [
    "# preenchendo o JSON:\n",
    "for nome, preco in zip(nomes, precos):\n",
    "    items[\"menu_items\"].append(\n",
    "        {\n",
    "            \"name\" : nome,\n",
    "            \"category\" : titulo,\n",
    "            \"price\" : preco\n",
    "        }\n",
    "    )"
   ]
  },
  {
   "cell_type": "code",
   "execution_count": 15,
   "metadata": {},
   "outputs": [
    {
     "data": {
      "text/plain": [
       "{'menu_items': [{'name': 'Pudim', 'category': 'Destaques', 'price': '12.00'},\n",
       "  {'name': 'IRRESISTIVEL', 'category': 'Destaques', 'price': '16.20'}]}"
      ]
     },
     "execution_count": 15,
     "metadata": {},
     "output_type": "execute_result"
    }
   ],
   "source": [
    "items"
   ]
  },
  {
   "cell_type": "markdown",
   "metadata": {},
   "source": [
    "**Outros Itens**"
   ]
  },
  {
   "cell_type": "code",
   "execution_count": 16,
   "metadata": {},
   "outputs": [],
   "source": [
    "categorias = resposta.css(\"div.category-container\")"
   ]
  },
  {
   "cell_type": "code",
   "execution_count": 17,
   "metadata": {},
   "outputs": [],
   "source": [
    "for categoria in categorias:\n",
    "    titulo = categoria.css('h2.title::text').extract_first()\n",
    "    nomes = categoria.css(\"div.text-info h4::text\").extract()\n",
    "    precos = categoria.css(\"div.price p::text\").extract()\n",
    "    precos = list(map(lambda p: p.replace(\"R$\\xa0\", \"\").replace(\",\", \".\"), precos))\n",
    "    dados = [{\"name\" : nome, \"category\" : titulo, \"price\" : preco} for nome, preco in zip(nomes, precos )]\n",
    "    items[\"menu_items\"] += dados"
   ]
  },
  {
   "cell_type": "code",
   "execution_count": 18,
   "metadata": {},
   "outputs": [
    {
     "data": {
      "text/plain": [
       "{'menu_items': [{'name': 'Pudim', 'category': 'Destaques', 'price': '12.00'},\n",
       "  {'name': 'IRRESISTIVEL', 'category': 'Destaques', 'price': '16.20'},\n",
       "  {'name': 'GORGON ONION CRISPY',\n",
       "   'category': '>>> Burger do mês <<<',\n",
       "   'price': '42.00'},\n",
       "  {'name': 'IRRESISTIVEL',\n",
       "   'category': 'BARATI$$IMO SMASH DAY',\n",
       "   'price': ' 18.00 '},\n",
       "  {'name': 'OPS ! BACON',\n",
       "   'category': 'BARATI$$IMO SMASH DAY',\n",
       "   'price': '16.20'},\n",
       "  {'name': 'MELT BACON',\n",
       "   'category': 'BARATI$$IMO SMASH DAY',\n",
       "   'price': '20.00'},\n",
       "  {'name': 'SMASH BACON',\n",
       "   'category': 'BARATI$$IMO SMASH DAY',\n",
       "   'price': '22.00'},\n",
       "  {'name': 'BATATA D´CUPIM', 'category': 'PRA COMEÇAR', 'price': '34.00'},\n",
       "  {'name': 'HOT WINGS', 'category': 'PRA COMEÇAR', 'price': '28.00'},\n",
       "  {'name': 'BATATA CHEDDAR E CRISPY DE BACON',\n",
       "   'category': 'PRA COMEÇAR',\n",
       "   'price': '28.00'},\n",
       "  {'name': 'BOLINHA DE CARNE DO SOL',\n",
       "   'category': 'PRA COMEÇAR',\n",
       "   'price': '26.00'},\n",
       "  {'name': 'ONION RINGS', 'category': 'PRA COMEÇAR', 'price': '20.00'},\n",
       "  {'name': 'DADINHOS DE TAPIOCA', 'category': 'PRA COMEÇAR', 'price': '18.00'},\n",
       "  {'name': 'COXINHA DE FRANGO', 'category': 'PRA COMEÇAR', 'price': '26.00'},\n",
       "  {'name': 'COMBO DO JOHN`S', 'category': 'COMBOS BURGER`S', 'price': '36.00'},\n",
       "  {'name': 'COMBO AUTÊNTICO BACON',\n",
       "   'category': 'COMBOS BURGER`S',\n",
       "   'price': '44.00'},\n",
       "  {'name': 'COMBO ONION BBQ', 'category': 'COMBOS BURGER`S', 'price': '44.00'},\n",
       "  {'name': 'COMBO D´CUPIM', 'category': 'COMBOS BURGER`S', 'price': '54.00'},\n",
       "  {'name': 'COMBO NEW CLASSICO',\n",
       "   'category': 'COMBOS BURGER`S',\n",
       "   'price': '44.00'},\n",
       "  {'name': 'COMBO DO MEGA JOHN`S',\n",
       "   'category': 'COMBOS BURGER`S',\n",
       "   'price': '53.00'},\n",
       "  {'name': 'JOHN´S', 'category': 'BURGER`S', 'price': '24.00'},\n",
       "  {'name': 'AUTÊNTICO BACON', 'category': 'BURGER`S', 'price': '32.00'},\n",
       "  {'name': 'ONION BBQ', 'category': 'BURGER`S', 'price': '32.00'},\n",
       "  {'name': 'D´CUPIM', 'category': 'BURGER`S', 'price': '42.00'},\n",
       "  {'name': 'NEW CLÁSSICO', 'category': 'BURGER`S', 'price': '32.00'},\n",
       "  {'name': 'MEGA JOHN´S', 'category': 'BURGER`S', 'price': '41.00'},\n",
       "  {'name': 'COMBO SR.CHICKEN',\n",
       "   'category': 'COMBO SANDUICHES DE FRANGO',\n",
       "   'price': '40.00'},\n",
       "  {'name': 'COMBO CHIKENSLAW',\n",
       "   'category': 'COMBO SANDUICHES DE FRANGO',\n",
       "   'price': '42.00'},\n",
       "  {'name': 'SR.CHICKEN', 'category': 'SANDUICHES DE FRANGO', 'price': '28.00'},\n",
       "  {'name': 'CHIKENSLAW', 'category': 'SANDUICHES DE FRANGO', 'price': '30.00'},\n",
       "  {'name': 'OVOMALTINE', 'category': 'MILKSHAKES', 'price': '26.00'},\n",
       "  {'name': 'BACON COM ÓREO', 'category': 'MILKSHAKES', 'price': '28.00'},\n",
       "  {'name': 'NINHO COM NUTELLA', 'category': 'MILKSHAKES', 'price': '28.00'},\n",
       "  {'name': 'MORANGO', 'category': 'MILKSHAKES', 'price': '26.00'},\n",
       "  {'name': 'MORANGO NO LANCE', 'category': 'SMOOTHIES', 'price': '20.00'},\n",
       "  {'name': 'MARACUBRABO', 'category': 'SMOOTHIES', 'price': '18.00'},\n",
       "  {'name': 'VITAMINA MARACUJA', 'category': 'SMOOTHIES', 'price': '12.00'},\n",
       "  {'name': 'SUCO DE LARANJA COM MORANGO',\n",
       "   'category': 'SUCOS NATURAIS E REFRESCANTES',\n",
       "   'price': '20.00'},\n",
       "  {'name': 'SUCO DE LARANJA',\n",
       "   'category': 'SUCOS NATURAIS E REFRESCANTES',\n",
       "   'price': '14.00'},\n",
       "  {'name': 'SODA ITALIANA DE MAÇA VERDE',\n",
       "   'category': 'SUCOS NATURAIS E REFRESCANTES',\n",
       "   'price': '18.00'},\n",
       "  {'name': 'SUCO DE ABACAXI COM HORTELÃ',\n",
       "   'category': 'SUCOS NATURAIS E REFRESCANTES',\n",
       "   'price': '14.00'},\n",
       "  {'name': 'SUCO LARANJA DE 1 LITRO',\n",
       "   'category': 'SUCOS NATURAIS E REFRESCANTES',\n",
       "   'price': '18.00'},\n",
       "  {'name': 'CHEESE CAKE', 'category': 'SOBREMESAS', 'price': '20.00'},\n",
       "  {'name': 'Pudim', 'category': 'SOBREMESAS', 'price': ' 16.00 '},\n",
       "  {'name': 'BISNAGA MOLHO TEMPERADO',\n",
       "   'category': 'MOLHOS DO JOHN`S',\n",
       "   'price': '16.00'},\n",
       "  {'name': 'BISNAGA MOLHO DE BACON',\n",
       "   'category': 'MOLHOS DO JOHN`S',\n",
       "   'price': '16.00'},\n",
       "  {'name': 'BISNAGA KETCHUP DE GOIABADA',\n",
       "   'category': 'MOLHOS DO JOHN`S',\n",
       "   'price': '16.00'},\n",
       "  {'name': 'BISNAGA MOLHO BBQ DO JOHN´S DE BACON',\n",
       "   'category': 'MOLHOS DO JOHN`S',\n",
       "   'price': '16.00'},\n",
       "  {'name': 'BISNAGA MOLHO DO BIG',\n",
       "   'category': 'MOLHOS DO JOHN`S',\n",
       "   'price': '16.00'},\n",
       "  {'name': 'BISNAGA MOLHO DE QUEIJO CHEDDAR',\n",
       "   'category': 'MOLHOS DO JOHN`S',\n",
       "   'price': '20.00'}]}"
      ]
     },
     "execution_count": 18,
     "metadata": {},
     "output_type": "execute_result"
    }
   ],
   "source": [
    "items"
   ]
  },
  {
   "cell_type": "markdown",
   "metadata": {},
   "source": [
    "##### Salvando o resultado em JSON"
   ]
  },
  {
   "cell_type": "code",
   "execution_count": 19,
   "metadata": {},
   "outputs": [],
   "source": [
    "import json"
   ]
  },
  {
   "cell_type": "code",
   "execution_count": 22,
   "metadata": {},
   "outputs": [],
   "source": [
    "with open(\"menu.json\", \"w\", encoding='UTF-8') as menu:\n",
    "    json.dump(items, menu, indent=4, ensure_ascii=False)"
   ]
  }
 ],
 "metadata": {
  "kernelspec": {
   "display_name": "Python 3 (ipykernel)",
   "language": "python",
   "name": "python3"
  },
  "language_info": {
   "codemirror_mode": {
    "name": "ipython",
    "version": 3
   },
   "file_extension": ".py",
   "mimetype": "text/x-python",
   "name": "python",
   "nbconvert_exporter": "python",
   "pygments_lexer": "ipython3",
   "version": "3.11.4"
  }
 },
 "nbformat": 4,
 "nbformat_minor": 2
}
